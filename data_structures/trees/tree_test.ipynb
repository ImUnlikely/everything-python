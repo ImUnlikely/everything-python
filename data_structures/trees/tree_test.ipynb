{
 "metadata": {
  "language_info": {
   "codemirror_mode": {
    "name": "ipython",
    "version": 3
   },
   "file_extension": ".py",
   "mimetype": "text/x-python",
   "name": "python",
   "nbconvert_exporter": "python",
   "pygments_lexer": "ipython3",
   "version": 3
  },
  "orig_nbformat": 2,
  "kernelspec": {
   "name": "python_defaultSpec_1595955265875",
   "display_name": "Python 3.8.3 64-bit"
  }
 },
 "nbformat": 4,
 "nbformat_minor": 2,
 "cells": [
  {
   "cell_type": "code",
   "execution_count": 18,
   "metadata": {},
   "outputs": [],
   "source": [
    "class Node:\n",
    "    def __init__(self, data, parent=None):\n",
    "        self.data = data\n",
    "        self.children = [] # should never exceed the length of the alphabet\n",
    "        self.parent = parent\n",
    "        # print(\"Node init\", self.data, self.parent, self.children)\n",
    "\n",
    "    def add_child(self, child):\n",
    "        # child = Node(letter, parent=self)\n",
    "        self.children.append(child)\n",
    "        # print(f\"Added child {child} to {self.data}\")\n",
    "\n",
    "    def set_parent(self, parent):\n",
    "        self.parent = parent\n",
    "        # print(f\"Set {parent} as parent to {self.data}\")\n",
    "\n",
    "    def __eq__(self, letter):\n",
    "        return self.data == letter\n",
    "\n",
    "    def __repr__(self):\n",
    "        return str(self.data)"
   ]
  },
  {
   "cell_type": "code",
   "execution_count": 22,
   "metadata": {
    "tags": []
   },
   "outputs": [],
   "source": [
    "class Tree:\n",
    "    def __init__(self):\n",
    "        self.root = Node(None)\n",
    "\n",
    "    def new_node(self, data, parent):\n",
    "        self.node = Node(data, parent)\n",
    "\n",
    "    def insert(self, data:str):\n",
    "        data = data.lower()\n",
    "        current = self.root\n",
    "\n",
    "        if len(data) >= 2:\n",
    "            if data[0] in current.children:\n",
    "                current = current.children[current.children.index(data[0])]\n",
    "            else:\n",
    "                self.new_node(data[0], current)\n",
    "                current.add_child(self.node)\n",
    "                current = self.node\n",
    "\n",
    "            for i in data[1::]:\n",
    "                if i in current.children:\n",
    "                    current =current.children[current.children.index(i)]\n",
    "                else:\n",
    "                    self.new_node(i, current)\n",
    "                    current.add_child(self.node)\n",
    "                    current = self.node\n",
    "\n",
    "        else:\n",
    "            if data in current.children:\n",
    "                print(f\"{data} already exists\")\n",
    "            else:\n",
    "                self.new_node(data, current)\n",
    "                current.add_child(self.node)\n",
    "                current = self.node\n",
    "\n",
    "    def search(self, data:str):\n",
    "        data = data.lower()\n",
    "        current = self.root\n",
    "        print(\"Current: \", current, current.children)\n",
    "        word = \"\"\n",
    "        for i in data:\n",
    "            if i in current.children:\n",
    "                current = current.children[current.children.index(i)]\n",
    "                print(\"Current: \", current, current.parent, len(current.children))\n",
    "                word += current.data\n",
    "            else:\n",
    "                print(f\"'{i}' not found as child for '{current.data}'\")\n",
    "                return False\n",
    "\n",
    "        print(f\"Found word: {word}\")\n",
    "        return True\n",
    "\n",
    "\n",
    "    def print_root(self):\n",
    "        print(self.root.data)"
   ]
  },
  {
   "cell_type": "code",
   "execution_count": 23,
   "metadata": {
    "tags": []
   },
   "outputs": [],
   "source": [
    "t = Tree()\n",
    "t.insert(\"lingu\")"
   ]
  },
  {
   "cell_type": "code",
   "execution_count": 24,
   "metadata": {
    "tags": []
   },
   "outputs": [
    {
     "output_type": "stream",
     "name": "stdout",
     "text": "Current:  None [l]\n'b' not found as child for 'None'\nFalse\nCurrent:  None [l]\nCurrent:  l None 1\nCurrent:  i l 1\nCurrent:  n i 1\nCurrent:  g n 1\nFound word: ling\nTrue\n"
    }
   ],
   "source": [
    "print(t.search(\"bear\"))\n",
    "print(t.search(\"ling\"))"
   ]
  },
  {
   "cell_type": "code",
   "execution_count": null,
   "metadata": {},
   "outputs": [],
   "source": []
  }
 ]
}
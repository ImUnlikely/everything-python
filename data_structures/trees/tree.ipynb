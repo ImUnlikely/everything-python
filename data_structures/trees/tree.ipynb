{
 "metadata": {
  "language_info": {
   "codemirror_mode": {
    "name": "ipython",
    "version": 3
   },
   "file_extension": ".py",
   "mimetype": "text/x-python",
   "name": "python",
   "nbconvert_exporter": "python",
   "pygments_lexer": "ipython3",
   "version": 3
  },
  "orig_nbformat": 2,
  "kernelspec": {
   "name": "python_defaultSpec_1596040337937",
   "display_name": "Python 3.8.3 64-bit"
  }
 },
 "nbformat": 4,
 "nbformat_minor": 2,
 "cells": [
  {
   "cell_type": "code",
   "execution_count": 1,
   "metadata": {},
   "outputs": [],
   "source": [
    "class Node:\n",
    "    def __init__(self, data, parent=None, end=False):\n",
    "        self.data = data\n",
    "        self.children = [] # should never exceed the length of the alphabet\n",
    "        self.parent = parent\n",
    "        self.end = end\n",
    "        self.count = 0\n",
    "        if self.end == True:\n",
    "            self.increment()\n",
    "\n",
    "    def add_child(self, child):\n",
    "        self.children.append(child)\n",
    "\n",
    "    def set_parent(self, parent):\n",
    "        self.parent = parent\n",
    "    \n",
    "    def increment(self):\n",
    "        self.count += 1\n",
    "\n",
    "    def __eq__(self, letter):\n",
    "        return self.data == letter\n",
    "\n",
    "    def __repr__(self):\n",
    "        return str(self.data)"
   ]
  },
  {
   "cell_type": "code",
   "execution_count": 5,
   "metadata": {},
   "outputs": [],
   "source": [
    "class Tree:\n",
    "    def __init__(self):\n",
    "        self.root = Node(None)\n",
    "\n",
    "    def new_node(self, data, parent, end=False):\n",
    "        self.node = Node(data, parent, end)\n",
    "\n",
    "    def insert(self, data:str):\n",
    "        data = data.lower()\n",
    "        current = self.root\n",
    "\n",
    "        if len(data) >= 2:\n",
    "            if data[0] in current.children:\n",
    "                current = current.children[current.children.index(data[0])]\n",
    "            else:\n",
    "                self.new_node(data[0], current)\n",
    "                current.add_child(self.node)\n",
    "                current = self.node\n",
    "\n",
    "            for i in data[1:-1:]:\n",
    "                if i in current.children:\n",
    "                    current = current.children[current.children.index(i)]\n",
    "                else:\n",
    "                    self.new_node(i, current)\n",
    "                    current.add_child(self.node)\n",
    "                    current = self.node\n",
    "\n",
    "            if data[-1] in current.children:\n",
    "                current = current.children[current.children.index(data[-1])]\n",
    "                current.increment() # Set count to +=1\n",
    "            else:\n",
    "                self.new_node(data[-1], current, True)\n",
    "                current.add_child(self.node)\n",
    "                current = self.node\n",
    "\n",
    "\n",
    "        else:\n",
    "            if data in current.children:\n",
    "                print(f\"{data} already exists\")\n",
    "            else:\n",
    "                self.new_node(data, current)\n",
    "                current.add_child(self.node)\n",
    "                current = self.node\n",
    "\n",
    "    def search(self, data:str):\n",
    "        data = data.lower()\n",
    "        current = self.root\n",
    "        word = \"\"\n",
    "        for i in data:\n",
    "            if i in current.children:\n",
    "                current = current.children[current.children.index(i)]\n",
    "                print(\"Current: \", current, current.parent, len(current.children))\n",
    "                word += current.data\n",
    "            else:\n",
    "                print(f\"'{i}' not found as child for '{current.data}'\")\n",
    "                return False\n",
    "\n",
    "        if current.count == 0:\n",
    "            print(f\"Found word: {word} ({current.count} instances)\")\n",
    "            return False\n",
    "        else:\n",
    "            print(f\"Found word: {word} ({current.count} instances)\")\n",
    "            return True\n",
    "\n",
    "\n",
    "    def print_root(self):\n",
    "        print(self.root.data)"
   ]
  },
  {
   "cell_type": "code",
   "execution_count": 14,
   "metadata": {
    "tags": []
   },
   "outputs": [],
   "source": [
    "t = Tree()\n",
    "t.insert(\"michael\")\n",
    "t.insert(\"michael\") \n",
    "t.insert(\"michael\")\n",
    "t.insert(\"mic\")\n",
    "t.insert(\"mia\")\n",
    "t.insert(\"mica\")\n",
    "t.insert(\"scott\")"
   ]
  },
  {
   "cell_type": "code",
   "execution_count": 16,
   "metadata": {
    "tags": []
   },
   "outputs": [
    {
     "output_type": "stream",
     "name": "stdout",
     "text": "Current:  m None 1\nCurrent:  i m 2\nCurrent:  c i 2\nCurrent:  a c 0\nFound word: mica (1 instances)\n"
    },
    {
     "output_type": "execute_result",
     "data": {
      "text/plain": "True"
     },
     "metadata": {},
     "execution_count": 16
    }
   ],
   "source": [
    "t.search(\"mica\")"
   ]
  },
  {
   "cell_type": "code",
   "execution_count": 12,
   "metadata": {
    "tags": []
   },
   "outputs": [],
   "source": [
    "#"
   ]
  },
  {
   "cell_type": "code",
   "execution_count": 11,
   "metadata": {
    "tags": []
   },
   "outputs": [],
   "source": [
    "#"
   ]
  },
  {
   "cell_type": "code",
   "execution_count": null,
   "metadata": {},
   "outputs": [],
   "source": []
  }
 ]
}